{
 "metadata": {
  "language_info": {
   "codemirror_mode": {
    "name": "ipython",
    "version": 3
   },
   "file_extension": ".py",
   "mimetype": "text/x-python",
   "name": "python",
   "nbconvert_exporter": "python",
   "pygments_lexer": "ipython3",
   "version": "3.8.3-final"
  },
  "orig_nbformat": 2,
  "kernelspec": {
   "name": "Python 3.8.3 64-bit ('base': conda)",
   "display_name": "Python 3.8.3 64-bit ('base': conda)",
   "metadata": {
    "interpreter": {
     "hash": "6968e095525de908c8f1af970c12be518fce56d160b54ca222d0625e8cf15918"
    }
   }
  }
 },
 "nbformat": 4,
 "nbformat_minor": 2,
 "cells": [
  {
   "cell_type": "code",
   "execution_count": 3,
   "metadata": {},
   "outputs": [],
   "source": [
    "import sys\n",
    "from simpleError import *\n",
    "\n",
    "class Salesman:\n",
    "    def __init__(self, filename):\n",
    "        self.filename = filename\n",
    "        self.location = []\n",
    "\n",
    "    def read(self):\n",
    "        try:\n",
    "            with open(self.filename, 'r') as f:\n",
    "                lines = f.readlines()\n",
    "                for item in lines:\n",
    "                    item.strip()\n",
    "                    if len(item) == 0:\n",
    "                        continue\n",
    "                    pair = item.split(' ')\n",
    "                    point = (pair[0], pair[1])\n",
    "                    self.location.append(point)\n",
    "        except FileNotFoundError as e:\n",
    "            print(e)\n",
    "\n",
    "    def print(self):\n",
    "        print(self.location)\n",
    "            "
   ]
  },
  {
   "cell_type": "code",
   "execution_count": 5,
   "metadata": {},
   "outputs": [
    {
     "output_type": "stream",
     "name": "stdout",
     "text": [
      "[('0', '0\\n'), ('225', '373\\n'), ('323', '5\\n'), ('400', '137\\n'), ('255', '30\\n'), ('124', '169\\n'), ('30', '251\\n'), ('417', '339\\n'), ('439', '383\\n'), ('108', '18\\n'), ('169', '43\\n'), ('385', '253\\n'), ('332', '148\\n'), ('121', '142\\n'), ('177', '395\\n'), ('459', '78\\n'), ('193', '498\\n'), ('490', '28\\n'), ('137', '500\\n'), ('456', '475\\n'), ('472', '158\\n'), ('226', '270\\n'), ('153', '303\\n'), ('430', '451\\n'), ('239', '237\\n'), ('201', '420\\n'), ('247', '5\\n'), ('69', '460\\n'), ('300', '24\\n'), ('307', '228\\n'), ('46', '376\\n'), ('277', '402\\n'), ('422', '117\\n'), ('258', '319\\n'), ('52', '443\\n'), ('412', '81\\n'), ('413', '203\\n'), ('288', '13\\n'), ('52', '247\\n'), ('388', '374\\n'), ('45', '444\\n'), ('112', '194\\n'), ('362', '287\\n'), ('312', '488\\n'), ('212', '185\\n'), ('394', '413\\n'), ('419', '99\\n'), ('102', '104\\n'), ('293', '22\\n'), ('428', '7\\n'), ('83', '164\\n'), ('63', '352\\n'), ('308', '311\\n'), ('318', '91\\n'), ('237', '119\\n'), ('438', '58\\n'), ('8', '321\\n'), ('345', '26\\n'), ('112', '350\\n'), ('413', '260\\n'), ('349', '382\\n'), ('402', '331\\n'), ('13', '322\\n'), ('326', '135\\n'), ('110', '37\\n'), ('101', '348\\n'), ('239', '381\\n'), ('274', '153\\n'), ('467', '390\\n'), ('293', '70\\n'), ('240', '349\\n'), ('183', '446\\n'), ('90', '163\\n'), ('126', '275\\n'), ('380', '189\\n'), ('269', '443\\n'), ('206', '127\\n'), ('79', '488\\n'), ('353', '478\\n'), ('33', '135\\n'), ('137', '283\\n'), ('68', '284\\n'), ('76', '36\\n'), ('78', '221\\n'), ('410', '94\\n'), ('406', '396\\n'), ('59', '287\\n'), ('179', '81\\n'), ('405', '255\\n'), ('413', '109\\n'), ('427', '323\\n'), ('203', '113\\n'), ('411', '460\\n'), ('59', '463\\n'), ('135', '430\\n'), ('296', '101\\n'), ('415', '105\\n'), ('116', '40\\n'), ('410', '24\\n'), ('275', '403\\n')]\n"
     ]
    }
   ],
   "source": [
    "salesman = Salesman('tsp_data.txt')\n",
    "salesman.read()\n",
    "salesman.print()"
   ]
  },
  {
   "cell_type": "code",
   "execution_count": 12,
   "metadata": {},
   "outputs": [
    {
     "output_type": "stream",
     "name": "stdout",
     "text": [
      "0 0\n\n0 0\n\n['0', '0\\n']\n('0', '0\\n')\n"
     ]
    }
   ],
   "source": [
    "try:\n",
    "    with open('tsp_data.txt', 'r') as f:\n",
    "        lines = f.readlines()\n",
    "        item = lines[0]\n",
    "        print(item)\n",
    "        item.rstrip('\\n')\n",
    "        print(item)\n",
    "        item = item.split(' ')\n",
    "        print(item)\n",
    "        pair = (item[0], item[1])\n",
    "        print(pair)\n",
    "except FileNotFoundError as e:\n",
    "    print(e)"
   ]
  },
  {
   "cell_type": "code",
   "execution_count": 1,
   "metadata": {},
   "outputs": [],
   "source": [
    "from kspIndividual import KSPIndividual\n",
    "\n",
    "gene1 = KSPIndividual(100)\n",
    "gene2 = KSPIndividual(100)\n",
    "gene1.initialization()\n",
    "gene2.initialization()"
   ]
  },
  {
   "cell_type": "code",
   "execution_count": null,
   "metadata": {},
   "outputs": [],
   "source": []
  }
 ]
}